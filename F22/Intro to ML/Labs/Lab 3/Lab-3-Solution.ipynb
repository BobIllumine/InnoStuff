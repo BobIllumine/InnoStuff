{
 "cells": [
  {
   "cell_type": "markdown",
   "metadata": {
    "colab_type": "text",
    "id": "YQPaHbIjl01G",
    "pycharm": {
     "name": "#%% md\n"
    }
   },
   "source": [
    "## Lab-3: Logistic Regression and Gradient descent\n",
    "-----\n",
    "\n",
    "## Introduction \n",
    "##### In this lab, we will discuss Logistic Regression (LR). This is a very important problem in machine learning and is applied to solve a variety of real life tasks. For example, financial services such as banks can rely on historical data of customers' credit record for loan approval by humans to automate the decision making process. A logistic regression model can be trained on these data, and then used to predict loan acceptance for future applicants. In particalar in this lab, you will apply Logistic Regression to predict survival on Titanic and learn to analyze classification results. \n",
    "\n",
    "### Learning outcomes:\n",
    "1. Compare classification problem (data) with regression problem (data)\n",
    "2. Understand the core concepts of LR (sigmoid function and loss function)\n",
    "3. Manual Feature Selection (are all the features relevant for the task?)\n",
    "4. Perform data pre-processing and preparation. Which pre-precessing technique should be aplied and why? \n",
    "5. Implement Logistic Regression with sklearn\n",
    "6. Interprete the results of logistic regression (accuracy, confusion matrix, recall, precision, f1-score)\n",
    "7. Strength and weakness of logistic regression\n",
    "8. Scaling to multi-class problems\n",
    "9. LR with gradient descent \n",
    "-----"
   ]
  },
  {
   "cell_type": "markdown",
   "metadata": {
    "colab_type": "text",
    "id": "DJE95f4yGU_i",
    "pycharm": {
     "name": "#%% md\n"
    }
   },
   "source": [
    "### Concepts Visualization\n",
    "\n",
    "Here are the main equations behind Logistic Regression:\n",
    "\n",
    "\n",
    "##### Given a data point $(x_i, y_i)$ where $x_i=\\{x_i^1,x_i^2, x_i^3,...,x_i^n\\}$;  $x_i^j$ represents the feature $j$ and $y_i$ the associated class label.\n",
    "\n",
    "#### Considering the hypothesis function $f(x_i) = \\beta_0 + \\beta_1 x_i^1 + + \\beta_2 x_i^2 + ... + \\beta_n x_i^n$ the output the LR model is the sigmoid function applied to $f(x_i)$, i.e., \n",
    "\n",
    "\n",
    "##### $\\hat p(x_i) = \\frac{e^{f(x_i)}}{1+e^{f(x_i)}} = \\frac{1}{1+e^{-f(x_i)}}$\n",
    "\n",
    "#### Components of the loss function\n",
    "\n",
    "\n",
    "##### Given the predicted $\\hat{p}(x_i)$ of the $x_i$ The loss of classifying the data point  is computed as follow:\n",
    " \n",
    "$L(\\hat{p}(x_i), y_i) = \\left\\{\\begin{matrix}\n",
    "-\\log (\\hat{p}(x_i)) && y_i = 1\\\\ \n",
    "-\\log (1 -\\hat{p}(x_i)) && y_i = 0 \n",
    "\\end{matrix}\\right.$\n",
    "\n",
    "$L(\\hat{p}(x_i), y_i) = -y_i\\log (\\hat{p}(x_i)) - (1 - y)_i\\log (1 -\\hat{p}(x_i))$\n",
    "\n",
    "\n",
    "#### The goal of the LR model is to find the values of the parameters $\\{\\beta_i\\}_{i=0}^{n}$ such that the average loss $L$ on the training dataset is minimized\n",
    "\n",
    "$\\hat y = \\left\\{\\begin{matrix}\n",
    "1 && \\hat p(x) > threshold\\\\ \n",
    "0 && otherwise \n",
    "\\end{matrix}\\right.$\n",
    "\n",
    " \n",
    "### Open Questions\n",
    "1. What problem does Logistic Regression solve? <span style=\"color:blue\"> Binary classification problem. </span>\n",
    "2. What is the output of Logistic Regression model? <span style=\"color:blue\"> Probability of some class. </span>\n",
    "2. Why can't we use average MSE as a loss function (as we did in Linear Regression)? <span style=\"color:blue\"> Sigmoid function is non-linear, hence MSE is not convex. For gradient descent loss function is required to be convex to have a garranty of arriving to the best solution. </span>\n",
    "3. How can we adapt Logistic Regression to solve a multiclass problem? <span style=\"color:blue\"> One VS Rest, One vs One strategies are possible. </span>\n",
    " \n",
    "Let's now see how shape of $\\hat p(x)$ depend on its parameters for a single feature: $\\beta_0 + \\beta_1 x_i$:"
   ]
  },
  {
   "cell_type": "code",
   "execution_count": 1,
   "metadata": {
    "colab": {},
    "colab_type": "code",
    "collapsed": true,
    "id": "8mwZdElFli7v",
    "pycharm": {
     "name": "#%%\n"
    }
   },
   "outputs": [],
   "source": [
    "import numpy as np\n",
    "import matplotlib.pyplot as plt\n",
    "%matplotlib inline "
   ]
  },
  {
   "cell_type": "code",
   "execution_count": 3,
   "metadata": {
    "colab": {
     "base_uri": "https://localhost:8080/",
     "height": 269
    },
    "colab_type": "code",
    "id": "zibEd5lsI2Xn",
    "outputId": "fdecdabc-0bba-4695-decb-dd2d1c176b3c",
    "pycharm": {
     "name": "#%%\n"
    }
   },
   "outputs": [
    {
     "data": {
      "image/png": "[encoded data removed]",
      "text/plain": [
       "<Figure size 432x288 with 1 Axes>"
      ]
     },
     "metadata": {
      "needs_background": "light"
     },
     "output_type": "display_data"
    }
   ],
   "source": [
    "x = np.arange(-10, 10, 0.01)\n",
    "\n",
    "def plot(b0, b1):\n",
    "    p = 1 / (1 + np.exp(-(b0 + b1 * x)))\n",
    "    label = \"b0 = {}, b1 = {}\".format(b0, b1)\n",
    "    plt.plot(x, p, label=label)\n",
    "\n",
    "plot(0,1)\n",
    "plot(0,2)\n",
    "plot(0,3)\n",
    "plot(5,1)\n",
    "plt.legend()\n",
    "plt.title('Sigmoid function')\n",
    "plt.show()"
   ]
  },
  {
   "cell_type": "markdown",
   "metadata": {
    "colab_type": "text",
    "id": "_rqF7CozNK1F",
    "pycharm": {
     "name": "#%% md\n"
    }
   },
   "source": [
    "What is controlled by parameters b0, b1? <span style=\"color:blue\"> b0 controls shift and b1 is responsible for slope. </span> \n",
    "<br><br> \n",
    "Let's now visualize the components of the Loss function:"
   ]
  },
  {
   "cell_type": "code",
   "execution_count": 3,
   "metadata": {
    "colab": {
     "base_uri": "https://localhost:8080/",
     "height": 269
    },
    "colab_type": "code",
    "id": "0nQEsc6XJbDp",
    "outputId": "68e2d1d0-b18c-4d8f-e2b7-1c78cbb81824",
    "scrolled": true,
    "pycharm": {
     "name": "#%%\n"
    }
   },
   "outputs": [
    {
     "data": {
      "image/png": "[encoded data removed]",
      "text/plain": [
       "<Figure size 432x288 with 1 Axes>"
      ]
     },
     "metadata": {
      "needs_background": "light"
     },
     "output_type": "display_data"
    }
   ],
   "source": [
    "x = np.arange(0.001, 1, 0.001)\n",
    "y1 = -np.log(x)\n",
    "y0 = -np.log(1-x)\n",
    "\n",
    "plt.plot(x,y1, label=\"if y = 1\")\n",
    "plt.plot(x,y0, label=\"if y = 0\")\n",
    "plt.legend()\n",
    "plt.show()"
   ]
  },
  {
   "cell_type": "markdown",
   "metadata": {
    "pycharm": {
     "name": "#%% md\n"
    }
   },
   "source": [
    "What are the benefits of using logarithms in the loss function?  <span style=\"color:blue\"> These smooth monotonic functions make it easy to calculate the gradient and minimize cost. </span> <br><br>\n",
    "\n",
    "### Loading Data"
   ]
  },
  {
   "cell_type": "code",
   "execution_count": 4,
   "metadata": {
    "scrolled": false,
    "pycharm": {
     "name": "#%%\n"
    }
   },
   "outputs": [
    {
     "data": {
      "text/html": [
       "<div>\n",
       "<style scoped>\n",
       "    .dataframe tbody tr th:only-of-type {\n",
       "        vertical-align: middle;\n",
       "    }\n",
       "\n",
       "    .dataframe tbody tr th {\n",
       "        vertical-align: top;\n",
       "    }\n",
       "\n",
       "    .dataframe thead th {\n",
       "        text-align: right;\n",
       "    }\n",
       "</style>\n",
       "<table border=\"1\" class=\"dataframe\">\n",
       "  <thead>\n",
       "    <tr style=\"text-align: right;\">\n",
       "      <th></th>\n",
       "      <th>survived</th>\n",
       "      <th>pclass</th>\n",
       "      <th>name</th>\n",
       "      <th>sex</th>\n",
       "      <th>age</th>\n",
       "      <th>sibsp</th>\n",
       "      <th>parch</th>\n",
       "      <th>fare</th>\n",
       "      <th>embarked</th>\n",
       "    </tr>\n",
       "  </thead>\n",
       "  <tbody>\n",
       "    <tr>\n",
       "      <th>0</th>\n",
       "      <td>1</td>\n",
       "      <td>1</td>\n",
       "      <td>Allen, Miss. Elisabeth Walton</td>\n",
       "      <td>female</td>\n",
       "      <td>29.00</td>\n",
       "      <td>0</td>\n",
       "      <td>0</td>\n",
       "      <td>211.3375</td>\n",
       "      <td>S</td>\n",
       "    </tr>\n",
       "    <tr>\n",
       "      <th>1</th>\n",
       "      <td>1</td>\n",
       "      <td>1</td>\n",
       "      <td>Allison, Master. Hudson Trevor</td>\n",
       "      <td>male</td>\n",
       "      <td>0.92</td>\n",
       "      <td>1</td>\n",
       "      <td>2</td>\n",
       "      <td>151.5500</td>\n",
       "      <td>S</td>\n",
       "    </tr>\n",
       "    <tr>\n",
       "      <th>2</th>\n",
       "      <td>0</td>\n",
       "      <td>1</td>\n",
       "      <td>Allison, Miss. Helen Loraine</td>\n",
       "      <td>female</td>\n",
       "      <td>2.00</td>\n",
       "      <td>1</td>\n",
       "      <td>2</td>\n",
       "      <td>151.5500</td>\n",
       "      <td>S</td>\n",
       "    </tr>\n",
       "    <tr>\n",
       "      <th>3</th>\n",
       "      <td>0</td>\n",
       "      <td>1</td>\n",
       "      <td>Allison, Mr. Hudson Joshua Creighton</td>\n",
       "      <td>male</td>\n",
       "      <td>30.00</td>\n",
       "      <td>1</td>\n",
       "      <td>2</td>\n",
       "      <td>151.5500</td>\n",
       "      <td>S</td>\n",
       "    </tr>\n",
       "    <tr>\n",
       "      <th>4</th>\n",
       "      <td>0</td>\n",
       "      <td>1</td>\n",
       "      <td>Allison, Mrs. Hudson J C (Bessie Waldo Daniels)</td>\n",
       "      <td>female</td>\n",
       "      <td>25.00</td>\n",
       "      <td>1</td>\n",
       "      <td>2</td>\n",
       "      <td>151.5500</td>\n",
       "      <td>S</td>\n",
       "    </tr>\n",
       "    <tr>\n",
       "      <th>...</th>\n",
       "      <td>...</td>\n",
       "      <td>...</td>\n",
       "      <td>...</td>\n",
       "      <td>...</td>\n",
       "      <td>...</td>\n",
       "      <td>...</td>\n",
       "      <td>...</td>\n",
       "      <td>...</td>\n",
       "      <td>...</td>\n",
       "    </tr>\n",
       "    <tr>\n",
       "      <th>1304</th>\n",
       "      <td>0</td>\n",
       "      <td>3</td>\n",
       "      <td>Zabour, Miss. Hileni</td>\n",
       "      <td>female</td>\n",
       "      <td>14.50</td>\n",
       "      <td>1</td>\n",
       "      <td>0</td>\n",
       "      <td>14.4542</td>\n",
       "      <td>C</td>\n",
       "    </tr>\n",
       "    <tr>\n",
       "      <th>1305</th>\n",
       "      <td>0</td>\n",
       "      <td>3</td>\n",
       "      <td>Zabour, Miss. Thamine</td>\n",
       "      <td>female</td>\n",
       "      <td>NaN</td>\n",
       "      <td>1</td>\n",
       "      <td>0</td>\n",
       "      <td>14.4542</td>\n",
       "      <td>C</td>\n",
       "    </tr>\n",
       "    <tr>\n",
       "      <th>1306</th>\n",
       "      <td>0</td>\n",
       "      <td>3</td>\n",
       "      <td>Zakarian, Mr. Mapriededer</td>\n",
       "      <td>male</td>\n",
       "      <td>26.50</td>\n",
       "      <td>0</td>\n",
       "      <td>0</td>\n",
       "      <td>7.2250</td>\n",
       "      <td>C</td>\n",
       "    </tr>\n",
       "    <tr>\n",
       "      <th>1307</th>\n",
       "      <td>0</td>\n",
       "      <td>3</td>\n",
       "      <td>Zakarian, Mr. Ortin</td>\n",
       "      <td>male</td>\n",
       "      <td>27.00</td>\n",
       "      <td>0</td>\n",
       "      <td>0</td>\n",
       "      <td>7.2250</td>\n",
       "      <td>C</td>\n",
       "    </tr>\n",
       "    <tr>\n",
       "      <th>1308</th>\n",
       "      <td>0</td>\n",
       "      <td>3</td>\n",
       "      <td>Zimmerman, Mr. Leo</td>\n",
       "      <td>male</td>\n",
       "      <td>29.00</td>\n",
       "      <td>0</td>\n",
       "      <td>0</td>\n",
       "      <td>7.8750</td>\n",
       "      <td>S</td>\n",
       "    </tr>\n",
       "  </tbody>\n",
       "</table>\n",
       "<p>1309 rows × 9 columns</p>\n",
       "</div>"
      ],
      "text/plain": [
       "      survived  pclass                                             name  \\\n",
       "0            1       1                    Allen, Miss. Elisabeth Walton   \n",
       "1            1       1                   Allison, Master. Hudson Trevor   \n",
       "2            0       1                     Allison, Miss. Helen Loraine   \n",
       "3            0       1             Allison, Mr. Hudson Joshua Creighton   \n",
       "4            0       1  Allison, Mrs. Hudson J C (Bessie Waldo Daniels)   \n",
       "...        ...     ...                                              ...   \n",
       "1304         0       3                             Zabour, Miss. Hileni   \n",
       "1305         0       3                            Zabour, Miss. Thamine   \n",
       "1306         0       3                        Zakarian, Mr. Mapriededer   \n",
       "1307         0       3                              Zakarian, Mr. Ortin   \n",
       "1308         0       3                               Zimmerman, Mr. Leo   \n",
       "\n",
       "         sex    age  sibsp  parch      fare embarked  \n",
       "0     female  29.00      0      0  211.3375        S  \n",
       "1       male   0.92      1      2  151.5500        S  \n",
       "2     female   2.00      1      2  151.5500        S  \n",
       "3       male  30.00      1      2  151.5500        S  \n",
       "4     female  25.00      1      2  151.5500        S  \n",
       "...      ...    ...    ...    ...       ...      ...  \n",
       "1304  female  14.50      1      0   14.4542        C  \n",
       "1305  female    NaN      1      0   14.4542        C  \n",
       "1306    male  26.50      0      0    7.2250        C  \n",
       "1307    male  27.00      0      0    7.2250        C  \n",
       "1308    male  29.00      0      0    7.8750        S  \n",
       "\n",
       "[1309 rows x 9 columns]"
      ]
     },
     "execution_count": 4,
     "metadata": {},
     "output_type": "execute_result"
    }
   ],
   "source": [
    "import pandas as pd\n",
    "data = pd.read_csv('titanic.csv')\n",
    "data"
   ]
  },
  {
   "cell_type": "code",
   "execution_count": 5,
   "metadata": {
    "pycharm": {
     "name": "#%%\n"
    }
   },
   "outputs": [],
   "source": [
    "# removing name column\n",
    "data = data.drop(['name'], axis = 1)"
   ]
  },
  {
   "cell_type": "markdown",
   "metadata": {
    "pycharm": {
     "name": "#%% md\n"
    }
   },
   "source": [
    "What do we know about the output class distribution? What percentage of people had survived? Is it important to have the same distribution in test and train sets? Why?\n",
    "\n",
    "##### Task. Find and print the proporion of the positive (survived) class in the dataset, then split data to train and test sets preserving that proportion. Finally, as a check, calculate and print proportions in resulting sets."
   ]
  },
  {
   "cell_type": "code",
   "execution_count": 6,
   "metadata": {
    "scrolled": true,
    "pycharm": {
     "name": "#%%\n"
    }
   },
   "outputs": [
    {
     "name": "stdout",
     "output_type": "stream",
     "text": [
      "% of positive samples in whole data: 0.3819709702062643\n",
      "% of positive samples in train set: 0.38204393505253104\n",
      "% of positive samples in test set: 0.3816793893129771\n"
     ]
    }
   ],
   "source": [
    "from sklearn.model_selection import train_test_split\n",
    "\n",
    "# find and print the proportion of positive samples in data\n",
    "print('% of positive samples in whole data:', sum(data['survived'] == 1) / len(data))\n",
    "\n",
    "# split data\n",
    "x_train, x_test, y_train, y_test = train_test_split(data.loc[:, 'pclass':], data['survived'],\n",
    "                                                    test_size=0.2, stratify=data['survived'])\n",
    "\n",
    "# find and print the proportion of positive samples in train and test sets, make sure they are approx same\n",
    "print('% of positive samples in train set:', sum(y_train== 1) / len(x_train))\n",
    "print('% of positive samples in test set:', sum(y_test== 1) / len(x_test))"
   ]
  },
  {
   "cell_type": "markdown",
   "metadata": {
    "pycharm": {
     "name": "#%% md\n"
    }
   },
   "source": [
    "#### Data preprocessing\n",
    "\n",
    "... is done for you! But you are free to change it if needed."
   ]
  },
  {
   "cell_type": "code",
   "execution_count": 7,
   "metadata": {
    "pycharm": {
     "name": "#%%\n"
    }
   },
   "outputs": [],
   "source": [
    "from sklearn.impute import SimpleImputer\n",
    "from sklearn.preprocessing import OneHotEncoder\n",
    "from sklearn.preprocessing import MinMaxScaler\n",
    "\n",
    "# imputing missing values\n",
    "imputer = SimpleImputer(strategy='most_frequent')\n",
    "imputer.fit(x_train)\n",
    "x_train = pd.DataFrame(imputer.transform(x_train), columns=x_train.columns)\n",
    "x_test = pd.DataFrame(imputer.transform(x_test), columns=x_test.columns)\n",
    "\n",
    "# one-hot-encode categorical features\n",
    "def ohe_new_features(df, features_name, encoder):\n",
    "    new_feats = encoder.transform(df[features_name])\n",
    "    # create dataframe from encoded features with named columns\n",
    "    new_cols = pd.DataFrame(new_feats, dtype=int, columns=encoder.get_feature_names(features_name))\n",
    "    new_df = pd.concat([df, new_cols], axis=1)    \n",
    "    new_df.drop(features_name, axis=1, inplace=True)\n",
    "    return new_df\n",
    "\n",
    "encoder = OneHotEncoder(sparse=False, drop='first')\n",
    "f_names = ['sex', 'embarked']\n",
    "encoder.fit(x_train[f_names])\n",
    "x_train = ohe_new_features(x_train, f_names, encoder)\n",
    "x_test = ohe_new_features(x_test, f_names, encoder)\n",
    "\n",
    "# feature scaling\n",
    "scaler = MinMaxScaler()\n",
    "scaler.fit(x_train)\n",
    "x_train = pd.DataFrame(scaler.transform(x_train), columns=x_train.columns)\n",
    "x_test = pd.DataFrame(scaler.transform(x_test), columns=x_test.columns)"
   ]
  },
  {
   "cell_type": "code",
   "execution_count": 8,
   "metadata": {
    "scrolled": true,
    "pycharm": {
     "name": "#%%\n"
    }
   },
   "outputs": [
    {
     "data": {
      "text/html": [
       "<div>\n",
       "<style scoped>\n",
       "    .dataframe tbody tr th:only-of-type {\n",
       "        vertical-align: middle;\n",
       "    }\n",
       "\n",
       "    .dataframe tbody tr th {\n",
       "        vertical-align: top;\n",
       "    }\n",
       "\n",
       "    .dataframe thead th {\n",
       "        text-align: right;\n",
       "    }\n",
       "</style>\n",
       "<table border=\"1\" class=\"dataframe\">\n",
       "  <thead>\n",
       "    <tr style=\"text-align: right;\">\n",
       "      <th></th>\n",
       "      <th>pclass</th>\n",
       "      <th>age</th>\n",
       "      <th>sibsp</th>\n",
       "      <th>parch</th>\n",
       "      <th>fare</th>\n",
       "      <th>sex_male</th>\n",
       "      <th>embarked_Q</th>\n",
       "      <th>embarked_S</th>\n",
       "    </tr>\n",
       "  </thead>\n",
       "  <tbody>\n",
       "    <tr>\n",
       "      <th>0</th>\n",
       "      <td>1.0</td>\n",
       "      <td>0.312806</td>\n",
       "      <td>0.125</td>\n",
       "      <td>0.000000</td>\n",
       "      <td>0.031425</td>\n",
       "      <td>1.0</td>\n",
       "      <td>0.0</td>\n",
       "      <td>1.0</td>\n",
       "    </tr>\n",
       "    <tr>\n",
       "      <th>1</th>\n",
       "      <td>1.0</td>\n",
       "      <td>0.444958</td>\n",
       "      <td>0.000</td>\n",
       "      <td>0.000000</td>\n",
       "      <td>0.015713</td>\n",
       "      <td>1.0</td>\n",
       "      <td>0.0</td>\n",
       "      <td>1.0</td>\n",
       "    </tr>\n",
       "    <tr>\n",
       "      <th>2</th>\n",
       "      <td>0.0</td>\n",
       "      <td>0.616757</td>\n",
       "      <td>0.000</td>\n",
       "      <td>0.000000</td>\n",
       "      <td>0.075147</td>\n",
       "      <td>1.0</td>\n",
       "      <td>0.0</td>\n",
       "      <td>1.0</td>\n",
       "    </tr>\n",
       "    <tr>\n",
       "      <th>3</th>\n",
       "      <td>0.0</td>\n",
       "      <td>0.392097</td>\n",
       "      <td>0.000</td>\n",
       "      <td>0.000000</td>\n",
       "      <td>0.168837</td>\n",
       "      <td>0.0</td>\n",
       "      <td>0.0</td>\n",
       "      <td>1.0</td>\n",
       "    </tr>\n",
       "    <tr>\n",
       "      <th>4</th>\n",
       "      <td>1.0</td>\n",
       "      <td>0.114576</td>\n",
       "      <td>0.125</td>\n",
       "      <td>0.111111</td>\n",
       "      <td>0.029758</td>\n",
       "      <td>0.0</td>\n",
       "      <td>0.0</td>\n",
       "      <td>0.0</td>\n",
       "    </tr>\n",
       "    <tr>\n",
       "      <th>...</th>\n",
       "      <td>...</td>\n",
       "      <td>...</td>\n",
       "      <td>...</td>\n",
       "      <td>...</td>\n",
       "      <td>...</td>\n",
       "      <td>...</td>\n",
       "      <td>...</td>\n",
       "      <td>...</td>\n",
       "    </tr>\n",
       "    <tr>\n",
       "      <th>1042</th>\n",
       "      <td>1.0</td>\n",
       "      <td>0.312806</td>\n",
       "      <td>0.000</td>\n",
       "      <td>0.000000</td>\n",
       "      <td>0.018543</td>\n",
       "      <td>1.0</td>\n",
       "      <td>0.0</td>\n",
       "      <td>1.0</td>\n",
       "    </tr>\n",
       "    <tr>\n",
       "      <th>1043</th>\n",
       "      <td>0.5</td>\n",
       "      <td>0.511035</td>\n",
       "      <td>0.000</td>\n",
       "      <td>0.000000</td>\n",
       "      <td>0.025374</td>\n",
       "      <td>1.0</td>\n",
       "      <td>0.0</td>\n",
       "      <td>1.0</td>\n",
       "    </tr>\n",
       "    <tr>\n",
       "      <th>1044</th>\n",
       "      <td>0.0</td>\n",
       "      <td>0.392097</td>\n",
       "      <td>0.000</td>\n",
       "      <td>0.000000</td>\n",
       "      <td>0.321798</td>\n",
       "      <td>0.0</td>\n",
       "      <td>0.0</td>\n",
       "      <td>1.0</td>\n",
       "    </tr>\n",
       "    <tr>\n",
       "      <th>1045</th>\n",
       "      <td>1.0</td>\n",
       "      <td>0.312806</td>\n",
       "      <td>0.000</td>\n",
       "      <td>0.000000</td>\n",
       "      <td>0.012565</td>\n",
       "      <td>1.0</td>\n",
       "      <td>0.0</td>\n",
       "      <td>0.0</td>\n",
       "    </tr>\n",
       "    <tr>\n",
       "      <th>1046</th>\n",
       "      <td>0.0</td>\n",
       "      <td>0.920708</td>\n",
       "      <td>0.125</td>\n",
       "      <td>0.111111</td>\n",
       "      <td>0.138583</td>\n",
       "      <td>1.0</td>\n",
       "      <td>0.0</td>\n",
       "      <td>1.0</td>\n",
       "    </tr>\n",
       "  </tbody>\n",
       "</table>\n",
       "<p>1047 rows × 8 columns</p>\n",
       "</div>"
      ],
      "text/plain": [
       "      pclass       age  sibsp     parch      fare  sex_male  embarked_Q  \\\n",
       "0        1.0  0.312806  0.125  0.000000  0.031425       1.0         0.0   \n",
       "1        1.0  0.444958  0.000  0.000000  0.015713       1.0         0.0   \n",
       "2        0.0  0.616757  0.000  0.000000  0.075147       1.0         0.0   \n",
       "3        0.0  0.392097  0.000  0.000000  0.168837       0.0         0.0   \n",
       "4        1.0  0.114576  0.125  0.111111  0.029758       0.0         0.0   \n",
       "...      ...       ...    ...       ...       ...       ...         ...   \n",
       "1042     1.0  0.312806  0.000  0.000000  0.018543       1.0         0.0   \n",
       "1043     0.5  0.511035  0.000  0.000000  0.025374       1.0         0.0   \n",
       "1044     0.0  0.392097  0.000  0.000000  0.321798       0.0         0.0   \n",
       "1045     1.0  0.312806  0.000  0.000000  0.012565       1.0         0.0   \n",
       "1046     0.0  0.920708  0.125  0.111111  0.138583       1.0         0.0   \n",
       "\n",
       "      embarked_S  \n",
       "0            1.0  \n",
       "1            1.0  \n",
       "2            1.0  \n",
       "3            1.0  \n",
       "4            0.0  \n",
       "...          ...  \n",
       "1042         1.0  \n",
       "1043         1.0  \n",
       "1044         1.0  \n",
       "1045         0.0  \n",
       "1046         1.0  \n",
       "\n",
       "[1047 rows x 8 columns]"
      ]
     },
     "execution_count": 8,
     "metadata": {},
     "output_type": "execute_result"
    }
   ],
   "source": [
    "x_train"
   ]
  },
  {
   "cell_type": "markdown",
   "metadata": {
    "pycharm": {
     "name": "#%% md\n"
    }
   },
   "source": [
    "### Logistic Regression\n",
    "\n",
    "Now we are ready to see Logistic Regression in practice. \n",
    "\n",
    "#### Task. Fit Logistic Regression and output Accuracy, Precision, and Recall scores on test set."
   ]
  },
  {
   "cell_type": "code",
   "execution_count": 9,
   "metadata": {
    "scrolled": true,
    "pycharm": {
     "name": "#%%\n"
    }
   },
   "outputs": [
    {
     "name": "stdout",
     "output_type": "stream",
     "text": [
      "Testing accuracy = 0.7519083969465649\n",
      "Testing precision = 0.6966292134831461\n",
      "Testing recall = 0.62\n"
     ]
    }
   ],
   "source": [
    "from sklearn.linear_model import LogisticRegression\n",
    "from sklearn import metrics\n",
    "clf = LogisticRegression(random_state=0).fit(x_train, y_train)\n",
    "y_test_pred = clf.predict(x_test)\n",
    "\n",
    "print('Testing accuracy = {}'.format(metrics.accuracy_score(y_test, y_test_pred)))\n",
    "print('Testing precision = {}'.format(metrics.precision_score(y_test, y_test_pred)))\n",
    "print('Testing recall = {}'.format(metrics.recall_score(y_test, y_test_pred)))\n",
    "# clf.score(x_test, y_test)\n",
    "# clf.classes_"
   ]
  },
  {
   "cell_type": "markdown",
   "metadata": {
    "pycharm": {
     "name": "#%% md\n"
    }
   },
   "source": [
    "What about Logistic Regression Coefficients? Can we interpret them?"
   ]
  },
  {
   "cell_type": "code",
   "execution_count": 10,
   "metadata": {
    "scrolled": true,
    "pycharm": {
     "name": "#%%\n"
    }
   },
   "outputs": [
    {
     "name": "stdout",
     "output_type": "stream",
     "text": [
      "('pclass', -1.6639980867428066)\n",
      "('age', -1.6691660396987738)\n",
      "('sibsp', -1.394727048541109)\n",
      "('parch', -0.2649100197172169)\n",
      "('fare', 0.5158421469229013)\n",
      "('sex_male', -2.560774771998113)\n",
      "('embarked_Q', -0.4901564461948196)\n",
      "('embarked_S', -0.6793875366365021)\n"
     ]
    }
   ],
   "source": [
    "print(*[a for a in zip(list(x_train.columns), clf.coef_[0])], sep='\\n')"
   ]
  },
  {
   "cell_type": "markdown",
   "metadata": {
    "pycharm": {
     "name": "#%% md\n"
    }
   },
   "source": [
    "How can we choose a threshold? Let's try different ones and see their effect on metrics.\n",
    "\n",
    "#### Task. Calculate Accuracy, Precision, and Recall values for each of the given threshold values and plot them."
   ]
  },
  {
   "cell_type": "code",
   "execution_count": 11,
   "metadata": {
    "pycharm": {
     "name": "#%%\n"
    }
   },
   "outputs": [
    {
     "data": {
      "image/png": "[encoded data removed]",
      "text/plain": [
       "<Figure size 432x288 with 1 Axes>"
      ]
     },
     "metadata": {
      "needs_background": "light"
     },
     "output_type": "display_data"
    }
   ],
   "source": [
    "thresholds = [0.1,0.2,0.3,0.4,0.5,0.6,0.7,0.8,0.9]\n",
    "# calculate metrics for each threshold above and plot the result as below.\n",
    "pred_proba = clf.predict_proba(x_test)\n",
    "results = [[],[],[]]\n",
    "for i in thresholds:\n",
    "    y_test_pred_thr = np.where(pred_proba[:, 1] > i, 1, 0)\n",
    "    results[0].append(metrics.accuracy_score(y_test, y_test_pred_thr))\n",
    "    results[1].append(metrics.precision_score(y_test, y_test_pred_thr))\n",
    "    results[2].append(metrics.recall_score(y_test, y_test_pred_thr))\n",
    "    \n",
    "plt.plot(thresholds, results[0], label = 'accuracy')   \n",
    "plt.plot(thresholds, results[1], label = 'precision')   \n",
    "plt.plot(thresholds, results[2], label = 'recall')\n",
    "plt.title('Threshold Selection')\n",
    "plt.xlabel('threshold')\n",
    "plt.ylabel('score')\n",
    "plt.legend()\n",
    "plt.grid()"
   ]
  },
  {
   "cell_type": "markdown",
   "metadata": {
    "pycharm": {
     "name": "#%% md\n"
    }
   },
   "source": [
    "### Confusion matrix\n",
    "\n",
    "1. Why one may need confusion matrix? <span style=\"color:blue\"> Compared to single-number metrics, it gives a more detailed view on error types and hence can reveal problem zones. </span>\n",
    "2. What new information does it show? <span style=\"color:blue\"> Distribution of TP, FP, TN, FN. </span>\n",
    "\n",
    "<table><tr><td><img src='https://rasbt.github.io/mlxtend/user_guide/evaluate/confusion_matrix_files/confusion_matrix_1.png'></td><td><img src='http://wiki.fast.ai/images/6/61/Confusion_matrix.png' style='width: 400px;'></td></tr></table>\n",
    "\n",
    "<img align='center' src='https://www.researchgate.net/profile/Emanuele_Principi/publication/324226324/figure/fig2/AS:612091408941056@1522945372985/Normalized-confusion-matrix-of-best-performing-models-on-devel-subset-a-SVM.png' style='width: 350px;'>\n"
   ]
  },
  {
   "cell_type": "code",
   "execution_count": 12,
   "metadata": {
    "pycharm": {
     "name": "#%%\n"
    }
   },
   "outputs": [],
   "source": [
    "titanic_true_labels = np.array(y_test)\n",
    "titanic_pred_labels = y_test_pred"
   ]
  },
  {
   "cell_type": "code",
   "execution_count": 13,
   "metadata": {
    "colab": {},
    "colab_type": "code",
    "collapsed": true,
    "id": "P9fIYaKzERW0",
    "pycharm": {
     "name": "#%%\n"
    }
   },
   "outputs": [],
   "source": [
    "sample_true_labels = np.array([2, 2, 0, 0, 1, 0, 0, 2, 1, 1, 0, 0, 1, 2, 1, 0])\n",
    "sample_pred_labels = np.array([2, 1, 0, 0, 0, 0, 0, 1, 0, 2, 2, 1, 0, 0, 2, 2])"
   ]
  },
  {
   "cell_type": "markdown",
   "metadata": {
    "pycharm": {
     "name": "#%% md\n"
    }
   },
   "source": [
    "#### Task. You need to fill in the function which builds a Confusion Matrix based on true and predicted labels. Your solution should be generalizable to any number of classes. You can assume that classes are represented as numbers (0,1,2,3,...)"
   ]
  },
  {
   "cell_type": "code",
   "execution_count": 14,
   "metadata": {
    "colab": {
     "base_uri": "https://localhost:8080/",
     "height": 68
    },
    "colab_type": "code",
    "id": "pFwVr2qnK5Bd",
    "outputId": "58d8b9f0-7c9a-4259-de2b-5599fd0e6c34",
    "pycharm": {
     "name": "#%%\n"
    }
   },
   "outputs": [
    {
     "name": "stdout",
     "output_type": "stream",
     "text": [
      "Confusion Matrix for Titanic:\n",
      " [[135  27]\n",
      " [ 38  62]] \n",
      "\n",
      "Confusion Matrix for Sample set:\n",
      " [[4 1 2]\n",
      " [3 0 2]\n",
      " [1 2 1]]\n"
     ]
    }
   ],
   "source": [
    "def calc_confusion_matrix(true_labels, pred_labels):\n",
    "    # Calculate a confusion matrix: \n",
    "    # True labels along Y axis, Predicted ones along X axis      \n",
    "    num_labels = np.unique(true_labels).size      \n",
    "    cm = np.zeros((num_labels, num_labels), dtype=int)\n",
    "    for a, p in zip(true_labels, pred_labels):\n",
    "        cm[a][p] += 1\n",
    "    return cm\n",
    "\n",
    "titanic_cm = calc_confusion_matrix(titanic_true_labels, titanic_pred_labels)\n",
    "sample_cm = calc_confusion_matrix(sample_true_labels, sample_pred_labels)\n",
    "print('Confusion Matrix for Titanic:\\n', titanic_cm, '\\n')\n",
    "print('Confusion Matrix for Sample set:\\n', sample_cm)"
   ]
  },
  {
   "cell_type": "markdown",
   "metadata": {
    "pycharm": {
     "name": "#%% md\n"
    }
   },
   "source": [
    "### <center> Gradient Descent: Losgistic regression with Numpy </center>"
   ]
  },
  {
   "cell_type": "code",
   "execution_count": 1,
   "metadata": {
    "pycharm": {
     "name": "#%%\n"
    }
   },
   "outputs": [],
   "source": [
    "import numpy as np\n",
    "from sklearn.datasets import make_blobs"
   ]
  },
  {
   "cell_type": "markdown",
   "metadata": {
    "pycharm": {
     "name": "#%% md\n"
    }
   },
   "source": [
    "### Generate dataset"
   ]
  },
  {
   "cell_type": "code",
   "execution_count": 3,
   "metadata": {
    "pycharm": {
     "name": "#%%\n"
    }
   },
   "outputs": [],
   "source": [
    "data, labels = make_blobs(n_samples=1000, centers=2, n_features=2, random_state=0)"
   ]
  },
  {
   "cell_type": "markdown",
   "metadata": {
    "pycharm": {
     "name": "#%% md\n"
    }
   },
   "source": [
    "### Visualize the data"
   ]
  },
  {
   "cell_type": "code",
   "execution_count": null,
   "metadata": {
    "pycharm": {
     "name": "#%%\n"
    }
   },
   "outputs": [],
   "source": [
    "colors = {0:\"red\", 1:'blue'}\n",
    "label_values = [0, 1]\n",
    "\n",
    "for i in label_values:\n",
    "    idx = np.where(labels == i)\n",
    "    plt.scatter(data[idx, 0], data[idx, 1], c=colors[i])\n",
    "plt.show()"
   ]
  },
  {
   "cell_type": "markdown",
   "metadata": {
    "pycharm": {
     "name": "#%% md\n"
    }
   },
   "source": [
    "### Define the Logistic Sigmoid Function $\\sigma(z)$\n",
    "\n",
    "$$ \\sigma(z) = \\frac{1}{1+e^{-z}}$$"
   ]
  },
  {
   "cell_type": "code",
   "execution_count": null,
   "metadata": {
    "pycharm": {
     "name": "#%%\n"
    }
   },
   "outputs": [],
   "source": [
    "def sigmoid(x):    \n",
    "    return 1/ (1 + np.exp(-x))"
   ]
  },
  {
   "cell_type": "markdown",
   "metadata": {
    "pycharm": {
     "name": "#%% md\n"
    }
   },
   "source": [
    "### Compute the Cost Function $J(\\theta)$ and Gradient\n",
    "\n",
    "The objective of logistic regression is to minimize the cost function\n",
    "\n",
    "$$J(\\theta) = -\\frac{1}{m} \\sum_{i=1}^{m} [ y^{(i)}log(h_{\\theta}(x^{(i)})) + (1 - y^{(i)})log(1 - (h_{\\theta}(x^{(i)}))]$$\n",
    "\n",
    "where the gradient of the cost function is given by\n",
    "\n",
    "$$ \\frac{\\partial J(\\theta)}{\\partial \\theta_j} = \\frac{1}{m} \\sum_{i=1}^{m} (h_{\\theta}(x^{(i)}) - y^{(i)})x_j^{(i)}$$"
   ]
  },
  {
   "cell_type": "code",
   "execution_count": 5,
   "metadata": {
    "pycharm": {
     "name": "#%%\n"
    }
   },
   "outputs": [],
   "source": [
    "def compute_cost(theta, x, y):\n",
    "    m = len(y)\n",
    "    y_pred = sigmoid(np.dot(x , theta))\n",
    "    error = (y * np.log(y_pred)) + ((1 - y) * np.log(1 - y_pred))\n",
    "    cost = -1 / m * sum(error)\n",
    "    gradient = 1 / m * np.dot(x.transpose(), (y_pred - y))\n",
    "    return cost[0] , gradient"
   ]
  },
  {
   "cell_type": "code",
   "execution_count": 6,
   "metadata": {
    "pycharm": {
     "name": "#%%\n"
    }
   },
   "outputs": [],
   "source": [
    "### Plot the data with decision boundary\n",
    "def plot_data_with_decision(data, labels, theta):\n",
    "    colors = {0:\"red\", 1:'blue'}\n",
    "    label_values = [0, 1]\n",
    "\n",
    "    x_boundary = np.array([np.min(data[:, 1]), np.max(data[:, 1])])\n",
    "    y_boundary = -(theta[0] + theta[1] * x_boundary) / theta[2]\n",
    "\n",
    "    for i in label_values:\n",
    "        idx = np.where(labels == i)\n",
    "        plt.scatter(data[idx, 0], data[idx, 1], c=colors[i])\n",
    "    plt.plot(x_boundary, y_boundary)\n",
    "    plt.xlim([-2, 6])\n",
    "    plt.show()"
   ]
  },
  {
   "cell_type": "markdown",
   "metadata": {
    "pycharm": {
     "name": "#%% md\n"
    }
   },
   "source": [
    "### Initialize the parameters of the hipothesis "
   ]
  },
  {
   "cell_type": "code",
   "execution_count": null,
   "metadata": {
    "pycharm": {
     "name": "#%%\n"
    }
   },
   "outputs": [],
   "source": [
    "n_feature = data.shape[1]\n",
    "n_samples = data.shape[0]\n",
    "\n",
    "X = np.append(np.ones((n_samples, 1)), data, axis=1) #include intercept\n",
    "y = labels.reshape(n_samples, 1)\n",
    "\n",
    "theta = np.random.randn(n_feature+1).reshape(n_feature+1, 1) # initialize the weights (parameters)\n",
    " \n",
    "print(f\"Initial values of theta : {theta}\")\n",
    "cost, gradient = compute_cost(theta, X, y)\n",
    "print(f\"Initial gradient : {gradient}\\nInitial cost {cost}\")\n",
    "\n",
    "plot_data_with_decision(data,labels, theta)"
   ]
  },
  {
   "cell_type": "markdown",
   "metadata": {
    "pycharm": {
     "name": "#%% md\n"
    }
   },
   "source": [
    "### Apply gradient descent to minimize the loss function\n",
    "\n",
    "Minimize the cost function $J(\\theta)$ by updating the below equation and repeat until convergence\n",
    "$\\theta_j := \\theta_j - \\alpha \\frac{\\partial J(\\theta)}{\\partial \\theta_j}$ (simultaneously update $\\theta_j$ for all $j$)"
   ]
  },
  {
   "cell_type": "code",
   "execution_count": null,
   "metadata": {
    "pycharm": {
     "name": "#%%\n"
    }
   },
   "outputs": [],
   "source": [
    "costs = []\n",
    "iterations = 200\n",
    "lr = 0.01 # the learning rate\n",
    "for i in range(iterations): \n",
    "    cost, gradient = compute_cost(theta, X, y)\n",
    "    theta -= (lr * gradient) # simultaneously update the parameters with thier respective gradients\n",
    "    costs.append(cost)   "
   ]
  },
  {
   "cell_type": "markdown",
   "metadata": {
    "pycharm": {
     "name": "#%% md\n"
    }
   },
   "source": [
    "### Plotting the Convergence of $J(\\theta)$\n",
    "Plot $J(\\theta)$ against the number of iterations of gradient descent:"
   ]
  },
  {
   "cell_type": "code",
   "execution_count": null,
   "metadata": {
    "pycharm": {
     "name": "#%%\n"
    }
   },
   "outputs": [],
   "source": [
    "plt.plot(costs)\n",
    "plt.xlabel(\"Iterations\")\n",
    "plt.ylabel(\"$J(\\Theta)$\")\n",
    "plt.title(\"Values of Cost Function over iterations of Gradient Descent\")"
   ]
  },
  {
   "cell_type": "markdown",
   "metadata": {
    "pycharm": {
     "name": "#%% md\n"
    }
   },
   "source": [
    "### Plot the final decision boundary"
   ]
  },
  {
   "cell_type": "code",
   "execution_count": null,
   "metadata": {
    "pycharm": {
     "name": "#%%\n"
    }
   },
   "outputs": [],
   "source": [
    "colors = {0:\"red\", 1:'blue'}\n",
    "label_values = [0, 1]\n",
    "\n",
    "x_boundary = np.array([np.min(X[:, 1]), np.max(X[:, 1])])\n",
    "y_boundary = -(theta[0] + theta[1] * x_boundary) / theta[2]\n",
    "\n",
    "for i in label_values:\n",
    "    idx = np.where(labels == i)\n",
    "    plt.scatter(data[idx, 0], data[idx, 1], c=colors[i])\n",
    "plt.plot(x_boundary, y_boundary)\n",
    "plt.show()"
   ]
  },
  {
   "cell_type": "code",
   "execution_count": null,
   "metadata": {
    "pycharm": {
     "name": "#%%\n"
    }
   },
   "outputs": [],
   "source": [
    "### Write a function to predict the label from the optimized parameters \n",
    "\n",
    "def predict(theta, X):\n",
    "    results = X.dot(theta)\n",
    "    return results > 0.5"
   ]
  }
 ],
 "metadata": {
  "colab": {
   "name": "Week3BSWithAnswers.ipynb",
   "provenance": [],
   "version": "0.3.2"
  },
  "kernelspec": {
   "display_name": "Python 3.9.7 64-bit",
   "language": "python",
   "name": "python3"
  },
  "language_info": {
   "codemirror_mode": {
    "name": "ipython",
    "version": 3
   },
   "file_extension": ".py",
   "mimetype": "text/x-python",
   "name": "python",
   "nbconvert_exporter": "python",
   "pygments_lexer": "ipython3",
   "version": "3.9.7"
  },
  "vscode": {
   "interpreter": {
    "hash": "aee8b7b246df8f9039afb4144a1f6fd8d2ca17a180786b69acc140d282b71a49"
   }
  }
 },
 "nbformat": 4,
 "nbformat_minor": 1
}
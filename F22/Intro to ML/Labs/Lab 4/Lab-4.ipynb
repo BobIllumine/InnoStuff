{
   "cells": [
      {
         "cell_type": "markdown",
         "metadata": {
            "collapsed": false,
            "pycharm": {
               "name": "#%% md\n"
            }
         },
         "source": [
            "# Lab-4:\n",
            "In this lab, we will examine some classifiers, and the regularization concept in the classification problem.\n",
            "Also, we will see\n",
            "\n",
            "### Objectives:\n",
            "1. Lasso and Ridge\n",
            "2. Naïve Bayes\n",
            "3. KNN\n",
            "4. Cross Validation\n",
            "\n",
            "---\n",
            "## Lasso and Ridge\n",
            "Both models are the regularized forms of the linear regression.\n",
            "Lass with L1 regularization and Ridge with L2 regularization.\n",
            "Both act as a constraint region for the coefficients/weight, where they must reside in.\n",
            "\n",
            "### Issues:\n",
            "1. When to use Lasso? \n",
            "\n",
            "2. When to use Ridge? \n",
            "\n",
            "3. Since it is hard to decide the parameters influence, How we can decide which regularization? and decide the value of lambda? "
         ]
      },
      {
         "cell_type": "code",
         "execution_count": 1,
         "metadata": {
            "collapsed": false,
            "pycharm": {
               "name": "#%%\n"
            }
         },
         "outputs": [],
         "source": [
            "from sklearn.datasets import load_boston\n",
            "from sklearn.model_selection import train_test_split\n",
            "import numpy as np"
         ]
      },
      {
         "cell_type": "markdown",
         "metadata": {
            "collapsed": false,
            "pycharm": {
               "name": "#%% md\n"
            }
         },
         "source": [
            "### Loading Boston dataset\n",
            "Housing-Prices Values in Suburbs of Boston."
         ]
      },
      {
         "cell_type": "code",
         "execution_count": 2,
         "metadata": {
            "collapsed": false,
            "pycharm": {
               "name": "#%%\n"
            }
         },
         "outputs": [
            {
               "name": "stderr",
               "output_type": "stream",
               "text": [
                  "/Users/sirojiddinkomolov/Documents/innopolis/fall22/intro-to-ml-folder/course-content/env/lib/python3.8/site-packages/sklearn/utils/deprecation.py:87: FutureWarning: Function load_boston is deprecated; `load_boston` is deprecated in 1.0 and will be removed in 1.2.\n",
                  "\n",
                  "    The Boston housing prices dataset has an ethical problem. You can refer to\n",
                  "    the documentation of this function for further details.\n",
                  "\n",
                  "    The scikit-learn maintainers therefore strongly discourage the use of this\n",
                  "    dataset unless the purpose of the code is to study and educate about\n",
                  "    ethical issues in data science and machine learning.\n",
                  "\n",
                  "    In this special case, you can fetch the dataset from the original\n",
                  "    source::\n",
                  "\n",
                  "        import pandas as pd\n",
                  "        import numpy as np\n",
                  "\n",
                  "        data_url = \"http://lib.stat.cmu.edu/datasets/boston\"\n",
                  "        raw_df = pd.read_csv(data_url, sep=\"\\s+\", skiprows=22, header=None)\n",
                  "        data = np.hstack([raw_df.values[::2, :], raw_df.values[1::2, :2]])\n",
                  "        target = raw_df.values[1::2, 2]\n",
                  "\n",
                  "    Alternative datasets include the California housing dataset (i.e.\n",
                  "    :func:`~sklearn.datasets.fetch_california_housing`) and the Ames housing\n",
                  "    dataset. You can load the datasets as follows::\n",
                  "\n",
                  "        from sklearn.datasets import fetch_california_housing\n",
                  "        housing = fetch_california_housing()\n",
                  "\n",
                  "    for the California housing dataset and::\n",
                  "\n",
                  "        from sklearn.datasets import fetch_openml\n",
                  "        housing = fetch_openml(name=\"house_prices\", as_frame=True)\n",
                  "\n",
                  "    for the Ames housing dataset.\n",
                  "  warnings.warn(msg, category=FutureWarning)\n"
               ]
            }
         ],
         "source": [
            "X, y = load_boston(return_X_y=True)\n",
            "\n",
            "x_train, x_test, y_train, y_test = train_test_split(X, y, test_size=0.2, random_state=123)\n",
            "x_train, x_val, y_train, y_val = train_test_split(x_train, y_train, test_size=1/8, random_state=123)"
         ]
      },
      {
         "cell_type": "markdown",
         "metadata": {
            "collapsed": false
         },
         "source": [
            "### Fitting both Lasso and Ridge\n",
            "Task:\n",
            "\n",
            "Fit two models: Lasso and Ridge - with the default alpha-.\n",
            "Then print their coefficients and notice the difference."
         ]
      },
      {
         "cell_type": "code",
         "execution_count": 3,
         "metadata": {
            "collapsed": false,
            "pycharm": {
               "name": "#%%\n"
            }
         },
         "outputs": [
            {
               "name": "stdout",
               "output_type": "stream",
               "text": [
                  "Lasso Coefficient:\n",
                  "\t-0.06296576330463614\n",
                  "\t0.0350956639719025\n",
                  "\t0.0\n",
                  "\t0.0\n",
                  "\t-0.0\n",
                  "\t2.269791338462823\n",
                  "\t0.0006779558466116866\n",
                  "\t-0.6450657726354462\n",
                  "\t0.19354572704933157\n",
                  "\t-0.013508702669918599\n",
                  "\t-0.6453458726466407\n",
                  "\t0.0044904218480321285\n",
                  "\t-0.6731506757847043\n",
                  "Ridge Coefficient:\n",
                  "\t-0.11105798056135398\n",
                  "\t0.03658528048290767\n",
                  "\t0.04692128541593313\n",
                  "\t0.6038241348013504\n",
                  "\t-6.9746056522676145\n",
                  "\t5.11864285160244\n",
                  "\t-0.026987022704628917\n",
                  "\t-1.2282427950710855\n",
                  "\t0.24913980673174493\n",
                  "\t-0.013989976538037296\n",
                  "\t-0.8478133115629521\n",
                  "\t0.006954220877156475\n",
                  "\t-0.468816487085446\n",
                  "Sum of lasso abs values: 4.543637894220047\n",
                  "Sum of ridge abs values: 15.73358080570265\n"
               ]
            }
         ],
         "source": [
            "from sklearn.linear_model import Lasso, Ridge\n",
            "\n",
            "# write code here\n",
            "lasso = None\n",
            "ridge = None\n",
            "\n",
            "print(\"Lasso Coefficient:\", *lasso.coef_, sep='\\n\\t')\n",
            "print(\"Ridge Coefficient:\", *ridge.coef_, sep='\\n\\t')\n",
            "print('Sum of lasso abs values:', np.sum(np.abs(lasso.coef_)))\n",
            "print('Sum of ridge abs values:', np.sum(np.abs(ridge.coef_)))"
         ]
      },
      {
         "cell_type": "markdown",
         "metadata": {
            "collapsed": false
         },
         "source": [
            "<span style=\"color:red\">\n",
            "Task: Let's try different values for alpha for Lasso and Ridge regressors then\n",
            "plot the validation loss."
         ]
      },
      {
         "cell_type": "code",
         "execution_count": 4,
         "metadata": {
            "collapsed": false,
            "pycharm": {
               "name": "#%%\n"
            }
         },
         "outputs": [
            {
               "data": {
                  "text/plain": [
                     "<Figure size 432x288 with 0 Axes>"
                  ]
               },
               "metadata": {},
               "output_type": "display_data"
            },
            {
               "data": {
                  "image/png": "[encoded data removed]",
                  "text/plain": [
                     "<Figure size 432x288 with 2 Axes>"
                  ]
               },
               "metadata": {
                  "needs_background": "light"
               },
               "output_type": "display_data"
            },
            {
               "name": "stdout",
               "output_type": "stream",
               "text": [
                  "Best value of alpha for lasso: 1.3\n",
                  "Best value of alpha for ridge: 350\n"
               ]
            }
         ],
         "source": [
            "import matplotlib.pylab as plt\n",
            "from sklearn.metrics import mean_squared_error\n",
            "%matplotlib inline\n",
            "\n",
            "lasso_alphas = [0.3, 0.5, 1, 1.1, 1.2, 1.3, 1.5, 2, 2.2, 2.5]\n",
            "ridge_alphas = [50, 200, 300, 350, 400, 500, 600, 700, 1000, 1200]\n",
            "lasso_losses = []\n",
            "ridge_losses = []\n",
            "for i in range(len(lasso_alphas)):\n",
            "    # Create a Lasso regressor with the alpha value.\n",
            "    # Fit it to the training set, then get the prediction of the validation set (x_val).\n",
            "    # calculate the mean squared error loss, then append it to the losses array\n",
            "    lasso = None\n",
            "    \n",
            "    y_pred = None\n",
            "    mse = None\n",
            "    lasso_losses.append(mse)\n",
            "\n",
            "    ridge = None\n",
            "    \n",
            "    y_pred = None\n",
            "    mse = None\n",
            "    ridge_losses.append(mse)\n",
            "\n",
            "plt.suptitle('The effect of changing alpha on MSE for lasso and ridge')\n",
            "\n",
            "\n",
            "\n",
            "# plt.figure(figsize=(10, 8))\n",
            "fig, (ax1, ax2) = plt.subplots(1,2, sharey=True)\n",
            "fig.suptitle('Aligning x-axis using sharex')\n",
            "\n",
            "ax1.plot(lasso_alphas, lasso_losses, label='lasso')\n",
            "ax1.legend()\n",
            "ax1.set(xlabel='alpha', ylabel='MSE')\n",
            "\n",
            "ax2.plot(ridge_alphas, ridge_losses, label='ridge')\n",
            "ax2.legend()\n",
            "ax2.set(xlabel='alpha', ylabel='MSE')\n",
            "\n",
            "plt.show()\n",
            "\n",
            "lasso_best_alpha = lasso_alphas[np.argmin(lasso_losses)]\n",
            "ridge_best_alpha = ridge_alphas[np.argmin(ridge_losses)]\n",
            "print(\"Best value of alpha for lasso:\", lasso_best_alpha)\n",
            "print(\"Best value of alpha for ridge:\", ridge_best_alpha)"
         ]
      },
      {
         "cell_type": "markdown",
         "metadata": {
            "collapsed": false
         },
         "source": [
            "Measuring the loss on the test set with Lasso and ridge regressors with the\n",
            "best alpha."
         ]
      },
      {
         "cell_type": "code",
         "execution_count": 5,
         "metadata": {
            "collapsed": false,
            "pycharm": {
               "name": "#%%\n"
            }
         },
         "outputs": [
            {
               "name": "stdout",
               "output_type": "stream",
               "text": [
                  "Lasso MSE on test set: 31.953762880829828\n",
                  "Ridge MSE on test set: 30.119886865223602\n"
               ]
            }
         ],
         "source": [
            "lasso = Lasso(lasso_best_alpha)\n",
            "lasso.fit(x_train, y_train)\n",
            "y_pred = lasso.predict(x_test)\n",
            "print(\"Lasso MSE on test set:\", mean_squared_error(y_test, y_pred))\n",
            "\n",
            "ridge = Ridge(ridge_best_alpha)\n",
            "ridge.fit(x_train, y_train)\n",
            "y_pred = ridge.predict(x_test)\n",
            "print(\"Ridge MSE on test set:\", mean_squared_error(y_test, y_pred))"
         ]
      },
      {
         "cell_type": "markdown",
         "metadata": {
            "collapsed": false
         },
         "source": [
            "## Loading the iris dataset\n",
            "Dataset of 3 types/classes of flowers with 4 features. Suitable for classification!"
         ]
      },
      {
         "cell_type": "code",
         "execution_count": 7,
         "metadata": {
            "collapsed": false,
            "pycharm": {
               "name": "#%%\n"
            }
         },
         "outputs": [],
         "source": [
            "from sklearn.datasets import load_digits\n",
            "\n",
            "X, y = load_digits(return_X_y=True)\n",
            "x_train, x_test, y_train, y_test = train_test_split(X, y, test_size=0.2)\n",
            "# We will show why we didn't split a validation set."
         ]
      },
      {
         "cell_type": "markdown",
         "metadata": {
            "collapsed": false
         },
         "source": [
            "## Naïve Bayes\n",
            "We will use the Gaussian Naïve Bayes, that deals -as a assumption- with the continous features as gaussian variables to compute their probability.\n",
            "\n",
            "$$P(x_i|y) = \\frac{1}{\\sqrt{2\\pi\\sigma_y^2}}exp(-\\frac{(x_i - \\mu_y)^2}{2\\sigma_y^2})$$\n",
            "\n",
            "While $\\mu_y$ and $\\sigma_y^2$ are the mean and the variance of the feature $i$ for class $y$.\n",
            "\n",
            "Note: The different naive Bayes classifiers differ mainly by the assumptions they make regarding the distribution of $P(x_i|y)$.\n",
            "\n",
            "___\n",
            "What are the pros and cons of Naive bayes classifier?\n",
            "___"
         ]
      },
      {
         "cell_type": "markdown",
         "metadata": {
            "collapsed": false
         },
         "source": [
            "Let's train a naive-bayes model and check the test accuracy.\n"
         ]
      },
      {
         "cell_type": "code",
         "execution_count": 7,
         "metadata": {
            "collapsed": false,
            "pycharm": {
               "name": "#%%\n"
            }
         },
         "outputs": [
            {
               "name": "stdout",
               "output_type": "stream",
               "text": [
                  "Accuracy: 0.8361111111111111\n"
               ]
            }
         ],
         "source": [
            "from sklearn.naive_bayes import GaussianNB\n",
            "from sklearn.metrics import accuracy_score\n",
            "\n",
            "# create and fit GaussianNB model on the training set\n",
            "gauss_nb = None\n",
            "\n",
            "y_pred = gauss_nb.predict(x_test)\n",
            "print('Accuracy:', accuracy_score(y_test, y_pred))"
         ]
      },
      {
         "cell_type": "markdown",
         "metadata": {
            "collapsed": false
         },
         "source": [
            "## K nearest neighbour classifier\n",
            "1. What are the pros and cons of KNN?\n",
            "   \n",
            "\n",
            "2. To increase the variance of KNN model, should we increase or decrease the K? "
         ]
      },
      {
         "cell_type": "markdown",
         "metadata": {
            "collapsed": false
         },
         "source": [
            "___\n",
            "Let's do the same with KNN classifier.\n",
            "\n",
            "\n",
            "Rescale the features first."
         ]
      },
      {
         "cell_type": "code",
         "execution_count": 8,
         "metadata": {
            "collapsed": false,
            "pycharm": {
               "name": "#%%\n"
            }
         },
         "outputs": [],
         "source": [
            "from sklearn.preprocessing import StandardScaler\n",
            "\n",
            "scaler = StandardScaler()\n",
            "x_train = scaler.fit_transform(x_train)\n",
            "x_test = scaler.transform(x_test)"
         ]
      },
      {
         "cell_type": "code",
         "execution_count": 9,
         "metadata": {
            "collapsed": false,
            "pycharm": {
               "name": "#%%\n"
            }
         },
         "outputs": [
            {
               "name": "stdout",
               "output_type": "stream",
               "text": [
                  "Accuracy: 0.9805555555555555\n"
               ]
            }
         ],
         "source": [
            "from sklearn.neighbors import KNeighborsClassifier\n",
            "from sklearn.metrics import accuracy_score\n",
            "\n",
            "# create and train the KNN model on the training set\n",
            "knn = None\n",
            "\n",
            "y_pred = knn.predict(x_test)\n",
            "print('Accuracy:', accuracy_score(y_test, y_pred))"
         ]
      },
      {
         "cell_type": "markdown",
         "metadata": {
            "collapsed": false
         },
         "source": [
            "Let's tune the hyperparameter $n\\_neighbors$ in the KNN classifier object using the cross-validation.\n",
            "\n",
            "___\n",
            "## Cross Validation\n",
            "Cross validation comes as an alternative for the validation set splitting.\n",
            "\n",
            "Note: that's why we didn't make a validation set."
         ]
      },
      {
         "cell_type": "code",
         "execution_count": 10,
         "metadata": {
            "collapsed": false,
            "pycharm": {
               "name": "#%%\n"
            }
         },
         "outputs": [
            {
               "data": {
                  "image/png": "[encoded data removed]",
                  "text/plain": [
                     "<Figure size 432x288 with 1 Axes>"
                  ]
               },
               "metadata": {
                  "needs_background": "light"
               },
               "output_type": "display_data"
            },
            {
               "name": "stdout",
               "output_type": "stream",
               "text": [
                  "Best K: 5\n"
               ]
            }
         ],
         "source": [
            "from sklearn.model_selection import cross_val_score\n",
            "import matplotlib.pylab as plt\n",
            "from matplotlib.ticker import MaxNLocator\n",
            "import numpy as np\n",
            "%matplotlib inline\n",
            "\n",
            "Ks = list(range(1, 20))\n",
            "cv_scores = []\n",
            "for K in Ks:\n",
            "    # create a KNN model with the K parameter\n",
            "    knn = None\n",
            "\n",
            "    # Evaluate a score by cross-validation by setting knn model as an estimator\n",
            "    # and specify the number of folds to 7, set metric as accuracy\n",
            "\n",
            "    scores = None\n",
            "\n",
            "    # calculate the mean score\n",
            "    avg_score = None\n",
            "\n",
            "    cv_scores.append(avg_score)\n",
            "\n",
            "plt.title('The effect of changing K on accuracy')\n",
            "plt.plot(Ks, cv_scores)\n",
            "plt.xlabel('K')\n",
            "plt.xticks(Ks)\n",
            "plt.ylabel('CV Average accuracy')\n",
            "plt.show()\n",
            "print('Best K:', Ks[np.argmax(cv_scores)])"
         ]
      },
      {
         "cell_type": "markdown",
         "metadata": {
            "collapsed": false
         },
         "source": [
            "In KNN classifier, there are several hyperparamters to tune, tuning them one\n",
            "by one is exhaustive approach. Let's try a better approach called GridSearchCV.\n",
            "\n",
            "### GridSearchCV\n",
            "In GridSearch Cross-validation, you give different values for each hyperparamter and it will try all combinations for you.\n",
            "At the end, it will return the best combination of hyperparamters that got the best cross-validation score.\n",
            "\n",
            "Task:\n",
            "Use gridsearch to tune 3 hyperparameters:\n",
            "\n",
            "1. $n\\_neighbors$: [1, 2, . . ., 10]\n",
            "2. $weights$: ['uniform', 'distance']\n",
            "3. $metric$: ['euclidean', 'manhattan', 'chebyshev', 'cosine']\n",
            "\n",
            "Check this [link](https://scikit-learn.org/stable/modules/grid_search.html)\n",
            "for help.\n",
            "\n",
            "Then measure the accuracy on the test set."
         ]
      },
      {
         "cell_type": "code",
         "execution_count": 11,
         "metadata": {
            "collapsed": false,
            "pycharm": {
               "name": "#%%\n"
            }
         },
         "outputs": [
            {
               "name": "stdout",
               "output_type": "stream",
               "text": [
                  "0.971 (+/-0.016) for {'metric': 'euclidean', 'n_neighbors': 1, 'weights': 'uniform'}\n",
                  "0.971 (+/-0.016) for {'metric': 'euclidean', 'n_neighbors': 1, 'weights': 'distance'}\n",
                  "0.964 (+/-0.021) for {'metric': 'euclidean', 'n_neighbors': 2, 'weights': 'uniform'}\n",
                  "0.971 (+/-0.016) for {'metric': 'euclidean', 'n_neighbors': 2, 'weights': 'distance'}\n",
                  "0.970 (+/-0.022) for {'metric': 'euclidean', 'n_neighbors': 3, 'weights': 'uniform'}\n",
                  "0.971 (+/-0.021) for {'metric': 'euclidean', 'n_neighbors': 3, 'weights': 'distance'}\n",
                  "0.966 (+/-0.024) for {'metric': 'euclidean', 'n_neighbors': 4, 'weights': 'uniform'}\n",
                  "0.973 (+/-0.020) for {'metric': 'euclidean', 'n_neighbors': 4, 'weights': 'distance'}\n",
                  "0.973 (+/-0.022) for {'metric': 'euclidean', 'n_neighbors': 5, 'weights': 'uniform'}\n",
                  "0.973 (+/-0.018) for {'metric': 'euclidean', 'n_neighbors': 5, 'weights': 'distance'}\n",
                  "0.967 (+/-0.025) for {'metric': 'euclidean', 'n_neighbors': 6, 'weights': 'uniform'}\n",
                  "0.971 (+/-0.020) for {'metric': 'euclidean', 'n_neighbors': 6, 'weights': 'distance'}\n",
                  "0.970 (+/-0.023) for {'metric': 'euclidean', 'n_neighbors': 7, 'weights': 'uniform'}\n",
                  "0.969 (+/-0.022) for {'metric': 'euclidean', 'n_neighbors': 7, 'weights': 'distance'}\n",
                  "0.967 (+/-0.024) for {'metric': 'euclidean', 'n_neighbors': 8, 'weights': 'uniform'}\n",
                  "0.970 (+/-0.020) for {'metric': 'euclidean', 'n_neighbors': 8, 'weights': 'distance'}\n",
                  "0.969 (+/-0.024) for {'metric': 'euclidean', 'n_neighbors': 9, 'weights': 'uniform'}\n",
                  "0.969 (+/-0.024) for {'metric': 'euclidean', 'n_neighbors': 9, 'weights': 'distance'}\n",
                  "0.965 (+/-0.030) for {'metric': 'euclidean', 'n_neighbors': 10, 'weights': 'uniform'}\n",
                  "0.969 (+/-0.023) for {'metric': 'euclidean', 'n_neighbors': 10, 'weights': 'distance'}\n",
                  "0.974 (+/-0.017) for {'metric': 'manhattan', 'n_neighbors': 1, 'weights': 'uniform'}\n",
                  "0.974 (+/-0.017) for {'metric': 'manhattan', 'n_neighbors': 1, 'weights': 'distance'}\n",
                  "0.966 (+/-0.022) for {'metric': 'manhattan', 'n_neighbors': 2, 'weights': 'uniform'}\n",
                  "0.974 (+/-0.017) for {'metric': 'manhattan', 'n_neighbors': 2, 'weights': 'distance'}\n",
                  "0.974 (+/-0.021) for {'metric': 'manhattan', 'n_neighbors': 3, 'weights': 'uniform'}\n",
                  "0.975 (+/-0.022) for {'metric': 'manhattan', 'n_neighbors': 3, 'weights': 'distance'}\n",
                  "0.969 (+/-0.024) for {'metric': 'manhattan', 'n_neighbors': 4, 'weights': 'uniform'}\n",
                  "0.976 (+/-0.020) for {'metric': 'manhattan', 'n_neighbors': 4, 'weights': 'distance'}\n",
                  "0.971 (+/-0.017) for {'metric': 'manhattan', 'n_neighbors': 5, 'weights': 'uniform'}\n",
                  "0.974 (+/-0.024) for {'metric': 'manhattan', 'n_neighbors': 5, 'weights': 'distance'}\n",
                  "0.969 (+/-0.019) for {'metric': 'manhattan', 'n_neighbors': 6, 'weights': 'uniform'}\n",
                  "0.974 (+/-0.014) for {'metric': 'manhattan', 'n_neighbors': 6, 'weights': 'distance'}\n",
                  "0.969 (+/-0.016) for {'metric': 'manhattan', 'n_neighbors': 7, 'weights': 'uniform'}\n",
                  "0.971 (+/-0.018) for {'metric': 'manhattan', 'n_neighbors': 7, 'weights': 'distance'}\n",
                  "0.965 (+/-0.024) for {'metric': 'manhattan', 'n_neighbors': 8, 'weights': 'uniform'}\n",
                  "0.971 (+/-0.021) for {'metric': 'manhattan', 'n_neighbors': 8, 'weights': 'distance'}\n",
                  "0.969 (+/-0.025) for {'metric': 'manhattan', 'n_neighbors': 9, 'weights': 'uniform'}\n",
                  "0.970 (+/-0.028) for {'metric': 'manhattan', 'n_neighbors': 9, 'weights': 'distance'}\n",
                  "0.965 (+/-0.032) for {'metric': 'manhattan', 'n_neighbors': 10, 'weights': 'uniform'}\n",
                  "0.971 (+/-0.028) for {'metric': 'manhattan', 'n_neighbors': 10, 'weights': 'distance'}\n",
                  "0.941 (+/-0.019) for {'metric': 'chebyshev', 'n_neighbors': 1, 'weights': 'uniform'}\n",
                  "0.941 (+/-0.019) for {'metric': 'chebyshev', 'n_neighbors': 1, 'weights': 'distance'}\n",
                  "0.927 (+/-0.041) for {'metric': 'chebyshev', 'n_neighbors': 2, 'weights': 'uniform'}\n",
                  "0.940 (+/-0.018) for {'metric': 'chebyshev', 'n_neighbors': 2, 'weights': 'distance'}\n",
                  "0.927 (+/-0.035) for {'metric': 'chebyshev', 'n_neighbors': 3, 'weights': 'uniform'}\n",
                  "0.935 (+/-0.034) for {'metric': 'chebyshev', 'n_neighbors': 3, 'weights': 'distance'}\n",
                  "0.930 (+/-0.032) for {'metric': 'chebyshev', 'n_neighbors': 4, 'weights': 'uniform'}\n",
                  "0.939 (+/-0.026) for {'metric': 'chebyshev', 'n_neighbors': 4, 'weights': 'distance'}\n",
                  "0.925 (+/-0.031) for {'metric': 'chebyshev', 'n_neighbors': 5, 'weights': 'uniform'}\n",
                  "0.930 (+/-0.033) for {'metric': 'chebyshev', 'n_neighbors': 5, 'weights': 'distance'}\n",
                  "0.923 (+/-0.032) for {'metric': 'chebyshev', 'n_neighbors': 6, 'weights': 'uniform'}\n",
                  "0.932 (+/-0.033) for {'metric': 'chebyshev', 'n_neighbors': 6, 'weights': 'distance'}\n",
                  "0.921 (+/-0.028) for {'metric': 'chebyshev', 'n_neighbors': 7, 'weights': 'uniform'}\n",
                  "0.926 (+/-0.030) for {'metric': 'chebyshev', 'n_neighbors': 7, 'weights': 'distance'}\n",
                  "0.919 (+/-0.035) for {'metric': 'chebyshev', 'n_neighbors': 8, 'weights': 'uniform'}\n",
                  "0.930 (+/-0.030) for {'metric': 'chebyshev', 'n_neighbors': 8, 'weights': 'distance'}\n",
                  "0.916 (+/-0.034) for {'metric': 'chebyshev', 'n_neighbors': 9, 'weights': 'uniform'}\n",
                  "0.927 (+/-0.034) for {'metric': 'chebyshev', 'n_neighbors': 9, 'weights': 'distance'}\n",
                  "0.908 (+/-0.037) for {'metric': 'chebyshev', 'n_neighbors': 10, 'weights': 'uniform'}\n",
                  "0.921 (+/-0.053) for {'metric': 'chebyshev', 'n_neighbors': 10, 'weights': 'distance'}\n",
                  "0.966 (+/-0.029) for {'metric': 'cosine', 'n_neighbors': 1, 'weights': 'uniform'}\n",
                  "0.966 (+/-0.029) for {'metric': 'cosine', 'n_neighbors': 1, 'weights': 'distance'}\n",
                  "0.954 (+/-0.030) for {'metric': 'cosine', 'n_neighbors': 2, 'weights': 'uniform'}\n",
                  "0.966 (+/-0.029) for {'metric': 'cosine', 'n_neighbors': 2, 'weights': 'distance'}\n",
                  "0.960 (+/-0.033) for {'metric': 'cosine', 'n_neighbors': 3, 'weights': 'uniform'}\n",
                  "0.962 (+/-0.035) for {'metric': 'cosine', 'n_neighbors': 3, 'weights': 'distance'}\n",
                  "0.958 (+/-0.029) for {'metric': 'cosine', 'n_neighbors': 4, 'weights': 'uniform'}\n",
                  "0.962 (+/-0.030) for {'metric': 'cosine', 'n_neighbors': 4, 'weights': 'distance'}\n",
                  "0.960 (+/-0.032) for {'metric': 'cosine', 'n_neighbors': 5, 'weights': 'uniform'}\n",
                  "0.959 (+/-0.030) for {'metric': 'cosine', 'n_neighbors': 5, 'weights': 'distance'}\n",
                  "0.956 (+/-0.037) for {'metric': 'cosine', 'n_neighbors': 6, 'weights': 'uniform'}\n",
                  "0.958 (+/-0.033) for {'metric': 'cosine', 'n_neighbors': 6, 'weights': 'distance'}\n",
                  "0.958 (+/-0.035) for {'metric': 'cosine', 'n_neighbors': 7, 'weights': 'uniform'}\n",
                  "0.959 (+/-0.036) for {'metric': 'cosine', 'n_neighbors': 7, 'weights': 'distance'}\n",
                  "0.956 (+/-0.037) for {'metric': 'cosine', 'n_neighbors': 8, 'weights': 'uniform'}\n",
                  "0.961 (+/-0.030) for {'metric': 'cosine', 'n_neighbors': 8, 'weights': 'distance'}\n",
                  "0.958 (+/-0.039) for {'metric': 'cosine', 'n_neighbors': 9, 'weights': 'uniform'}\n",
                  "0.959 (+/-0.037) for {'metric': 'cosine', 'n_neighbors': 9, 'weights': 'distance'}\n",
                  "0.952 (+/-0.045) for {'metric': 'cosine', 'n_neighbors': 10, 'weights': 'uniform'}\n",
                  "0.958 (+/-0.038) for {'metric': 'cosine', 'n_neighbors': 10, 'weights': 'distance'}\n",
                  "\n",
                  "Best parameters set found on development set:\n",
                  "\n",
                  "{'metric': 'manhattan', 'n_neighbors': 4, 'weights': 'distance'}\n",
                  "0.9861111111111112\n"
               ]
            }
         ],
         "source": [
            "from sklearn.model_selection import GridSearchCV\n",
            "\n",
            "# Modify the next lines to run GridSearchCV with cv=7\n",
            "param_grid = {'n_neighbors':list(range(1, 11)),\n",
            "              'weights':['uniform', 'distance'],\n",
            "              'metric':['euclidean', 'manhattan', 'chebyshev', 'cosine']\n",
            "              }\n",
            "\n",
            "# create a GridSearch cross validation with cv=7, \n",
            "# and accuracy as scoring, and specify param_grid\n",
            "\n",
            "\n",
            "grid_search_clf = None\n",
            "# then train on the train dataset\n",
            "\n",
            "\n",
            "means = grid_search_clf.cv_results_['mean_test_score']\n",
            "stds = grid_search_clf.cv_results_['std_test_score']\n",
            "for mean, std, params in zip(means, stds, grid_search_clf.cv_results_['params']):\n",
            "    print(\"%0.3f (+/-%0.03f) for %r\"\n",
            "        % (mean, std * 2, params))\n",
            "print()\n",
            "print(\"Best parameters set found on development set:\")\n",
            "print()\n",
            "print(grid_search_clf.best_params_)\n",
            "\n",
            "y_pred = grid_search_clf.predict(x_test)\n",
            "print(accuracy_score(y_test, y_pred))"
         ]
      },
      {
         "cell_type": "code",
         "execution_count": null,
         "metadata": {
            "collapsed": false,
            "pycharm": {
               "name": "#%%\n"
            }
         },
         "outputs": [],
         "source": []
      }
   ],
   "metadata": {
      "kernelspec": {
         "display_name": "Python 3.8.8 ('env': venv)",
         "language": "python",
         "name": "python3"
      },
      "language_info": {
         "codemirror_mode": {
            "name": "ipython",
            "version": 3
         },
         "file_extension": ".py",
         "mimetype": "text/x-python",
         "name": "python",
         "nbconvert_exporter": "python",
         "pygments_lexer": "ipython3",
         "version": "3.8.8"
      },
      "vscode": {
         "interpreter": {
            "hash": "6df0ddd77085922c773681b1c23afa6ec355a7eb5a25c833f534ec75c0111436"
         }
      }
   },
   "nbformat": 4,
   "nbformat_minor": 4
}
